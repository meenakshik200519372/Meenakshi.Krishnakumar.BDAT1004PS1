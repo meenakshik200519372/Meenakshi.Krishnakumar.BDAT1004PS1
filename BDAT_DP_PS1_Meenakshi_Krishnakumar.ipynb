{
  "nbformat": 4,
  "nbformat_minor": 0,
  "metadata": {
    "colab": {
      "provenance": [],
      "collapsed_sections": [
        "6oKx0FNWE5rL",
        "6TsGzbweIzX5",
        "xgA04PciNdDq",
        "rcAqP40sPpc1",
        "k77yfD3_Rkfx",
        "HWLPLF2vO4SG",
        "dpkJWZ1sSpuu",
        "QZl1EU_jc4Z3"
      ]
    },
    "kernelspec": {
      "name": "python3",
      "display_name": "Python 3"
    },
    "language_info": {
      "name": "python"
    }
  },
  "cells": [
    {
      "cell_type": "code",
      "execution_count": null,
      "metadata": {
        "id": "Uq8h5NRXEwcA"
      },
      "outputs": [],
      "source": [
        "import numpy as np"
      ]
    },
    {
      "cell_type": "markdown",
      "source": [
        "# Question 1\n"
      ],
      "metadata": {
        "id": "6oKx0FNWE5rL"
      }
    },
    {
      "cell_type": "markdown",
      "source": [
        "### Question\n",
        "\n",
        "What data type is each of the following?\n",
        "\n",
        "* 5\n",
        "* 5.0\n",
        "* 5 > 1\n",
        "* '5'\n",
        "* 5 * 2\n",
        "* '5' * 2\n",
        "* '5' + '2'\n",
        "* 5 / 2\n",
        "* 5 % 2\n",
        "* {5, 2, 1}\n",
        "* 5 == 3\n",
        "* Pi (the number)"
      ],
      "metadata": {
        "id": "-wXps_IIIOS-"
      }
    },
    {
      "cell_type": "markdown",
      "source": [
        "### Answers\n",
        "\n",
        "* 5 --> **type *int*** (Integer)\n",
        "* 5.0 --> **type *float*** (Decimal)\n",
        "* 5 > 1 --> This expression would result in the boolean value *True* (**type *bool***)\n",
        "* '5' --> Since the number is enclosed in single quotes, it is of **type *str*** (String)\n",
        "* 5 * 2 --> This performs the usual multiplication, resulting in the number 10, which is of **type *int***\n",
        "* '5' * 2 --> This would produce '55' as the result which is of **type *str*** (String)\n",
        "* '5' + '2' --> This is the concatenation operation and results in '52' which is of **type *str*** (String)\n",
        "* 5 / 2 --> This performs the usual division and results in the number 2.5 which is of **type *float*** (Decimal)\n",
        "* 5 % 2 --> This produces the remainder value when 5 is divided by 2, which is 1. Hence the result is of **type *int*** (Integer)\n",
        "* {5, 2, 1} --> **type *set***\n",
        "* 5 == 3 --> This expression results in the boolean value *False* (**type *bool***)\n",
        "* Pi (the number) --> Since the number Pi is a decimal, it is of **type *float***\n",
        "\n",
        "The answers are justified using the following Python script."
      ],
      "metadata": {
        "id": "HTk5Z0lBFTTq"
      }
    },
    {
      "cell_type": "code",
      "source": [
        "print(\"5: \", type(5))\n",
        "print(\"5.0: \", type(5.0))\n",
        "print(\"5 > 1: \", type(5 > 1))\n",
        "print(\"'5'': \", type('5'))\n",
        "print(\"5 * 2': \", type(5*2))\n",
        "print(\"'5' * 2': \", type('5'*2))\n",
        "print(\"'5' + '2': \", type('5' + '2'))\n",
        "print(\"5 / 2: \", type(5/2))\n",
        "print(\"5 % 2: \", type(5 % 2))\n",
        "print(\"{5, 2, 1}: \", type({5, 2, 1}))\n",
        "print(\"5 == 3: \", type(5 == 3))\n",
        "print(\"Pi: \", type(np.pi))"
      ],
      "metadata": {
        "colab": {
          "base_uri": "https://localhost:8080/"
        },
        "id": "9S4tF365E2pd",
        "outputId": "0636159f-1af1-48fc-87a5-529daca4314c"
      },
      "execution_count": null,
      "outputs": [
        {
          "output_type": "stream",
          "name": "stdout",
          "text": [
            "5:  <class 'int'>\n",
            "5.0:  <class 'float'>\n",
            "5 > 1:  <class 'bool'>\n",
            "'5'':  <class 'str'>\n",
            "5 * 2':  <class 'int'>\n",
            "'5' * 2':  <class 'str'>\n",
            "'5' + '2':  <class 'str'>\n",
            "5 / 2:  <class 'float'>\n",
            "5 % 2:  <class 'int'>\n",
            "{5, 2, 1}:  <class 'set'>\n",
            "5 == 3:  <class 'bool'>\n",
            "Pi:  <class 'float'>\n"
          ]
        }
      ]
    },
    {
      "cell_type": "markdown",
      "source": [
        "# Question 2"
      ],
      "metadata": {
        "id": "6TsGzbweIzX5"
      }
    },
    {
      "cell_type": "markdown",
      "source": [
        "### Question\n",
        "\n",
        "Write (and evaluate) python expressions that answer these questions:\n",
        "\n",
        "> a. How many letters are there in 'Supercalifragilisticexpialidocious'?\n",
        "\n",
        "> b. Does 'Supercalifragilisticexpialidocious' contain 'ice' as a substring?\n",
        "\n",
        "> c. Which of the following words is the longest:\n",
        "Supercalifragilisticexpialidocious, Honorificabilitudinitatibus, or Bababadalgharaghtakamminarronnkonn?\n",
        "\n",
        "> d. Which composer comes first in the dictionary: 'Berlioz', 'Borodin', 'Brian', 'Bartok', 'Bellini', 'Buxtehude', 'Bernstein'. Which one comes last?"
      ],
      "metadata": {
        "id": "4yuq5MBhI0y1"
      }
    },
    {
      "cell_type": "markdown",
      "source": [
        "### Answers"
      ],
      "metadata": {
        "id": "ZToJDL2RJPlj"
      }
    },
    {
      "cell_type": "code",
      "source": [
        "# a. How many letters are there in 'Supercalifragilisticexpialidocious'?\n",
        "print(\"Number of letters in 'Supercalifragilisticexpialidocious': \", len('Supercalifragilisticexpialidocious'))\n"
      ],
      "metadata": {
        "colab": {
          "base_uri": "https://localhost:8080/"
        },
        "id": "lHlpwLClID34",
        "outputId": "55abd46b-09f5-495d-8eda-9be0ffb01f95"
      },
      "execution_count": null,
      "outputs": [
        {
          "output_type": "stream",
          "name": "stdout",
          "text": [
            "Number of letters in 'Supercalifragilisticexpialidocious':  34\n"
          ]
        }
      ]
    },
    {
      "cell_type": "code",
      "source": [
        "# b. Does 'Supercalifragilisticexpialidocious' contain 'ice' as a substring?\n",
        "word = 'Supercalifragilisticexpialidocious'\n",
        "chk_word = 'ice'\n",
        "if chk_word in word:\n",
        "  print(\"Yes, 'Supercalifragilisticexpialidocious' contains 'ice' as a substring.\")\n",
        "else:\n",
        "  print(\"No, 'Supercalifragilisticexpialidocious' does not contain 'ice' as a substring.\")"
      ],
      "metadata": {
        "colab": {
          "base_uri": "https://localhost:8080/"
        },
        "id": "2flX--7NJdJf",
        "outputId": "23d9d168-b924-4202-c799-2f499d77a82d"
      },
      "execution_count": null,
      "outputs": [
        {
          "output_type": "stream",
          "name": "stdout",
          "text": [
            "Yes, 'Supercalifragilisticexpialidocious' contains 'ice' as a substring.\n"
          ]
        }
      ]
    },
    {
      "cell_type": "code",
      "source": [
        "# c. Which of the following words is the longest:\n",
        "#     Supercalifragilisticexpialidocious, Honorificabilitudinitatibus,\n",
        "#     or Bababadalgharaghtakamminarronnkonn?\n",
        "\n",
        "words = ['Supercalifragilisticexpialidocious', 'Honorificabilitudinitatibus',\n",
        "         'Bababadalgharaghtakamminarronnkonn']\n",
        "word_lengths = {}\n",
        "for word in words:\n",
        "  word_lengths[word] = len(word)\n",
        "\n",
        "max_length = max(word_lengths.values())\n",
        "\n",
        "print(f\"The longest word(s) (with length = {max_length}) in the given list of words is/are: \\n\")\n",
        "for word, length in word_lengths.items():\n",
        "  if length == max_length:\n",
        "    print(word)\n"
      ],
      "metadata": {
        "colab": {
          "base_uri": "https://localhost:8080/"
        },
        "id": "m6Fb4g8wLZ0p",
        "outputId": "acb59822-9112-400c-9c6f-8c9bcb9ede2a"
      },
      "execution_count": null,
      "outputs": [
        {
          "output_type": "stream",
          "name": "stdout",
          "text": [
            "The longest word(s) (with length = 34) in the given list of words is/are: \n",
            "\n",
            "Supercalifragilisticexpialidocious\n",
            "Bababadalgharaghtakamminarronnkonn\n"
          ]
        }
      ]
    },
    {
      "cell_type": "code",
      "source": [
        "# d. Which composer comes first in the dictionary: 'Berlioz', 'Borodin',\n",
        "#    'Brian', 'Bartok', 'Bellini', 'Buxtehude', 'Bernstein'. Which one comes last?\n",
        "\n",
        "word_list = ['Berlioz', 'Borodin', 'Brian', 'Bartok', 'Bellini', 'Buxtehude', 'Bernstein']\n",
        "\n",
        "sorted_word_list = sorted(word_list)\n",
        "\n",
        "print(\"The composer who comes first in the dictionary is: \", sorted_word_list[0])\n",
        "print(\"The composer who comes last in the dictionary is: \", sorted_word_list[-1])"
      ],
      "metadata": {
        "colab": {
          "base_uri": "https://localhost:8080/"
        },
        "id": "KpDjZLlJL2Wl",
        "outputId": "a05cb2ad-32e2-4d4f-fb40-aed3baf95595"
      },
      "execution_count": null,
      "outputs": [
        {
          "output_type": "stream",
          "name": "stdout",
          "text": [
            "The composer who comes first in the dictionary is:  Bartok\n",
            "The composer who comes last in the dictionary is:  Buxtehude\n"
          ]
        }
      ]
    },
    {
      "cell_type": "markdown",
      "source": [
        "# Question 3"
      ],
      "metadata": {
        "id": "xgA04PciNdDq"
      }
    },
    {
      "cell_type": "markdown",
      "source": [
        "### Question\n",
        "\n",
        "Implement function *triangleArea(a,b,c)* that takes as input the lengths of the 3 sides of a triangle and returns the area of the triangle. By Heron's formula, the area of a triangle with side lengths a, b, and c is\n",
        "\n",
        "$$\\sqrt{s(s - a)(s -b)(s -c)}$$\n",
        "\n",
        "where\n",
        "$$s = (a +b + c) /2.$$"
      ],
      "metadata": {
        "id": "8FHyUjzNNelC"
      }
    },
    {
      "cell_type": "markdown",
      "source": [
        "### Answer"
      ],
      "metadata": {
        "id": "6BtzwfCkOW6K"
      }
    },
    {
      "cell_type": "code",
      "source": [
        "def triangleArea(a, b, c):\n",
        "  \"\"\"\n",
        "  Function that takes as input the lenghts of the 3 sides of a triangle\n",
        "  and returns the area of the triangle using Heron's formula.\n",
        "\n",
        "  Args: a: float: length of 1st side of the triangle\n",
        "        b: float: length of 2nd side of the triangle\n",
        "        c: float: length of 3rd side of the triangle\n",
        "  Return: float: The area of the triangle with lengths of sides a, b, & c,\n",
        "                 calculated using Heron's formula.\n",
        "  \"\"\"\n",
        "\n",
        "  s = (a + b + c) / 2\n",
        "  area = (s * (s - a) * (s - b) * (s - c))**(1/2)\n",
        "  return(area)"
      ],
      "metadata": {
        "id": "U8G2cHjJM5nU"
      },
      "execution_count": null,
      "outputs": []
    },
    {
      "cell_type": "code",
      "source": [
        "# test\n",
        "triangleArea(2,2,2)"
      ],
      "metadata": {
        "colab": {
          "base_uri": "https://localhost:8080/"
        },
        "id": "yzSgC5i4Paq0",
        "outputId": "a6ac3d33-957f-45e9-bb53-b721a5729435"
      },
      "execution_count": null,
      "outputs": [
        {
          "output_type": "execute_result",
          "data": {
            "text/plain": [
              "1.7320508075688772"
            ]
          },
          "metadata": {},
          "execution_count": 9
        }
      ]
    },
    {
      "cell_type": "markdown",
      "source": [
        "# Question 4"
      ],
      "metadata": {
        "id": "rcAqP40sPpc1"
      }
    },
    {
      "cell_type": "markdown",
      "source": [
        "### Question\n",
        "\n",
        "Write a program in python to separate odd and even integers in separate arrays."
      ],
      "metadata": {
        "id": "O8Y_ld_XPtM1"
      }
    },
    {
      "cell_type": "markdown",
      "source": [
        "### Answer"
      ],
      "metadata": {
        "id": "vqgctcrORiS7"
      }
    },
    {
      "cell_type": "code",
      "source": [
        "# program + results from the test data\n",
        "n_elements = int(input(\"Input the number of elements to be stored in the array: \"))\n",
        "print(f\"Input the {n_elements} elements in the array: \")\n",
        "even_elements = []\n",
        "odd_elements = []\n",
        "for i in range(n_elements):\n",
        "  element = int(input(f\"element - {i} : \"))\n",
        "  if element % 2 == 0:\n",
        "    even_elements.append(element)\n",
        "  else:\n",
        "    odd_elements.append(element)\n",
        "\n",
        "print(\"The Even elements are: \")\n",
        "print(*even_elements)\n",
        "print(\"The Odd elements are: \")\n",
        "print(*odd_elements)"
      ],
      "metadata": {
        "colab": {
          "base_uri": "https://localhost:8080/"
        },
        "id": "PEH3JGaXPeRq",
        "outputId": "5b959135-7373-4706-a314-8d713ef1be58"
      },
      "execution_count": null,
      "outputs": [
        {
          "output_type": "stream",
          "name": "stdout",
          "text": [
            "Input the number of elements to be stored in the array: 5\n",
            "Input the 5 elements in the array: \n",
            "element - 0 : 25\n",
            "element - 1 : 47\n",
            "element - 2 : 42\n",
            "element - 3 : 56\n",
            "element - 4 : 32\n",
            "The Even elements are: \n",
            "42 56 32\n",
            "The Odd elements are: \n",
            "25 47\n"
          ]
        }
      ]
    },
    {
      "cell_type": "markdown",
      "source": [
        "# Question 5"
      ],
      "metadata": {
        "id": "k77yfD3_Rkfx"
      }
    },
    {
      "cell_type": "markdown",
      "source": [
        "### Question\n",
        "\n",
        "a. Write a function *inside(x, y, x1, y1, x2, y2)*\n",
        "that returns True or False depending on whether the point *(x,y)* lies in the rectangle with lower left corner *(x1,y1)* and upper right corner *(x2,y2)*.\n",
        "\n",
        "b. Use function *inside()* from part a. to write an expression that tests whether the point (1,1) lies in both of the following rectangles: one with lower left corner (0.3, 0.5) and upper right corner (1.1, 0.7) and the other with lower left corner (0.5, 0.2) and upper right corner (1.1, 2)."
      ],
      "metadata": {
        "id": "X6cGSP1HRpHZ"
      }
    },
    {
      "cell_type": "markdown",
      "source": [
        "### Answer"
      ],
      "metadata": {
        "id": "BFFO8a1ySHl1"
      }
    },
    {
      "cell_type": "code",
      "source": [
        "# a.\n",
        "\n",
        "def inside(x, y, x1, y1, x2, y2):\n",
        "  \"\"\"\n",
        "  Function that checks whether a given point (x, y) lies inside the rectangle\n",
        "  with lower left corner (x1, y1) and upper right corner (x2, y2).\n",
        "\n",
        "  Args: x, y: float: Point to be checked\n",
        "        x1, y1: float: lower left corner of the rectangle\n",
        "        x2, y2: float: upper right corner of the rectangle\n",
        "\n",
        "  Return: bool: True if the point lies inside the rectangle, and False otherwise.\n",
        "  \"\"\"\n",
        "\n",
        "  x_condition = (x > x1) and (x < x2)\n",
        "  y_condition = (y > y1) and (y < y2)\n",
        "  if x_condition and y_condition:\n",
        "    return(True)\n",
        "  else:\n",
        "    return(False)\n"
      ],
      "metadata": {
        "id": "BbGs-efOP97Y"
      },
      "execution_count": null,
      "outputs": []
    },
    {
      "cell_type": "code",
      "source": [
        "# test data 1\n",
        "inside(1,1,0,0,2,3)"
      ],
      "metadata": {
        "colab": {
          "base_uri": "https://localhost:8080/"
        },
        "id": "CjRukGXOSqto",
        "outputId": "6246cbf8-f56a-4fe6-a376-eb01b4205a1b"
      },
      "execution_count": null,
      "outputs": [
        {
          "output_type": "execute_result",
          "data": {
            "text/plain": [
              "True"
            ]
          },
          "metadata": {},
          "execution_count": 12
        }
      ]
    },
    {
      "cell_type": "code",
      "source": [
        "# test data 2\n",
        "inside(-1,-1,0,0,2,3)"
      ],
      "metadata": {
        "colab": {
          "base_uri": "https://localhost:8080/"
        },
        "id": "FwruaTL1St1S",
        "outputId": "40b425be-6bc9-465d-b271-97955c735f2e"
      },
      "execution_count": null,
      "outputs": [
        {
          "output_type": "execute_result",
          "data": {
            "text/plain": [
              "False"
            ]
          },
          "metadata": {},
          "execution_count": 13
        }
      ]
    },
    {
      "cell_type": "code",
      "source": [
        "# b.\n",
        "\n",
        "inside(1, 1, 0.3, 0.5, 1.1, 0.7) and inside(1, 1, 0.5, 0.2, 1.1, 2)"
      ],
      "metadata": {
        "colab": {
          "base_uri": "https://localhost:8080/"
        },
        "id": "fFVe7LxaSxDD",
        "outputId": "401d5db5-8ea2-4ca4-b7d6-026ad2018bca"
      },
      "execution_count": null,
      "outputs": [
        {
          "output_type": "execute_result",
          "data": {
            "text/plain": [
              "False"
            ]
          },
          "metadata": {},
          "execution_count": 14
        }
      ]
    },
    {
      "cell_type": "markdown",
      "source": [
        "# Question 6"
      ],
      "metadata": {
        "id": "HWLPLF2vO4SG"
      }
    },
    {
      "cell_type": "markdown",
      "source": [
        "### Question\n",
        "\n",
        "You can turn a word into pig-Latin using the following two rules (simplified):\n",
        "* If the word starts with a consonant, move that letter to the end and append 'ay'. For example, 'happy' becomes 'appyhay' and 'pencil' becomes 'encilpay'.\n",
        "* If the word starts with a vowel, simply append 'way' to the end of the word. For example, 'enter' becomes 'enterway' and 'other' becomes 'otherway' . For our purposes, there are 5 vowels: a, e, i, o, u (so we count y as a consonant).\n",
        "\n",
        "Write a function pig() that takes a word (i.e., a string) as input and returns its pig-Latin form. Your function should still work if the input word contains upper case characters. Your output should always be lower case however."
      ],
      "metadata": {
        "id": "qkydODYEO6lX"
      }
    },
    {
      "cell_type": "markdown",
      "source": [
        "### Answer"
      ],
      "metadata": {
        "id": "mjnOG2twc1df"
      }
    },
    {
      "cell_type": "code",
      "source": [
        "def pig(word):\n",
        "  \"\"\"\n",
        "  Function to turn a word into pig-Latin\n",
        "\n",
        "  Args: word: str: Word to be turned into pig-Latin\n",
        "  Return: str: the given word in pig-Latin\n",
        "\n",
        "  \"\"\"\n",
        "\n",
        "  vowels = ['a', 'e', 'i', 'o', 'u']\n",
        "  word = word.lower()\n",
        "\n",
        "  if word[0] in vowels:\n",
        "    return(word + 'way')\n",
        "  else:\n",
        "    return(word[1:] + word[0] + 'ay')"
      ],
      "metadata": {
        "id": "SsWboWjhTJbM"
      },
      "execution_count": null,
      "outputs": []
    },
    {
      "cell_type": "code",
      "source": [
        "# test case 1\n",
        "pig('happy')"
      ],
      "metadata": {
        "colab": {
          "base_uri": "https://localhost:8080/"
        },
        "id": "y_ZP8Ah6SKiG",
        "outputId": "c5c8db9e-78c0-4f9f-ed13-9fe63e3df6c1"
      },
      "execution_count": null,
      "outputs": [
        {
          "output_type": "execute_result",
          "data": {
            "text/plain": [
              "'appyhay'"
            ],
            "application/vnd.google.colaboratory.intrinsic+json": {
              "type": "string"
            }
          },
          "metadata": {},
          "execution_count": 16
        }
      ]
    },
    {
      "cell_type": "code",
      "source": [
        "# test case 2\n",
        "pig('Enter')"
      ],
      "metadata": {
        "colab": {
          "base_uri": "https://localhost:8080/"
        },
        "id": "3BoJw7DlSLxV",
        "outputId": "086300fc-e128-4552-cfe2-4db049835219"
      },
      "execution_count": null,
      "outputs": [
        {
          "output_type": "execute_result",
          "data": {
            "text/plain": [
              "'enterway'"
            ],
            "application/vnd.google.colaboratory.intrinsic+json": {
              "type": "string"
            }
          },
          "metadata": {},
          "execution_count": 17
        }
      ]
    },
    {
      "cell_type": "markdown",
      "source": [
        "# Question 7"
      ],
      "metadata": {
        "id": "dpkJWZ1sSpuu"
      }
    },
    {
      "cell_type": "markdown",
      "source": [
        "### Question\n",
        "\n",
        "File *bloodtype1.txt* records blood-types of patients (A, B, AB, O or OO) at a clinic. Write a function *bldcount()* that reads the file with name name and reports (i.e., prints) how many patients there are in each bloodtype."
      ],
      "metadata": {
        "id": "GZarxgdSSr2X"
      }
    },
    {
      "cell_type": "markdown",
      "source": [
        "### Answer"
      ],
      "metadata": {
        "id": "jRaXBDs3cziv"
      }
    },
    {
      "cell_type": "code",
      "source": [
        "def bldcount(name):\n",
        "  \"\"\"\n",
        "  Function that reads the given file and reports how many patients\n",
        "  there are in each bloodtype.\n",
        "\n",
        "  Args: name: str: Filepath\n",
        "  Returns: None\n",
        "  \"\"\"\n",
        "\n",
        "  with open(name) as f:\n",
        "    records = f.read()\n",
        "\n",
        "  records = records.split(' ')\n",
        "\n",
        "  records_count = {}\n",
        "  for bloodtype in records:\n",
        "    if bloodtype != '\\n':\n",
        "      if bloodtype in records_count:\n",
        "        records_count[bloodtype] += 1\n",
        "      else:\n",
        "        records_count[bloodtype] = 1\n",
        "\n",
        "  for bloodtype in ['A', 'B', 'AB', 'O', 'OO']:\n",
        "    if bloodtype in records_count:\n",
        "      count = records_count[bloodtype]\n",
        "      if count > 1:\n",
        "        print(f\"There are {count} patients of blood type {bloodtype}.\")\n",
        "      else:\n",
        "        print(f\"There is {count} patient of blood type {bloodtype}.\")\n",
        "    else:\n",
        "      print(f\"There are no patients of blood type {bloodtype}.\")\n"
      ],
      "metadata": {
        "id": "qfmUBId7SZ0n"
      },
      "execution_count": null,
      "outputs": []
    },
    {
      "cell_type": "code",
      "source": [
        "bldcount('bloodtype1.txt')"
      ],
      "metadata": {
        "colab": {
          "base_uri": "https://localhost:8080/"
        },
        "id": "f-HnczUPXIM8",
        "outputId": "39b3bbb1-0a22-485f-fee8-38c93d5791a1"
      },
      "execution_count": null,
      "outputs": [
        {
          "output_type": "stream",
          "name": "stdout",
          "text": [
            "There are 15 patients of blood type A.\n",
            "There is 1 patient of blood type B.\n",
            "There are 13 patients of blood type AB.\n",
            "There are 15 patients of blood type O.\n",
            "There are no patients of blood type OO.\n"
          ]
        }
      ]
    },
    {
      "cell_type": "markdown",
      "source": [
        "# Question 8"
      ],
      "metadata": {
        "id": "QZl1EU_jc4Z3"
      }
    },
    {
      "cell_type": "markdown",
      "source": [
        "### Question\n",
        "\n",
        "Write a function *curconv()* that takes as input:\n",
        "1. a currency represented using a string (e.g., 'JPY' for the Japanese Yen or 'EUR' for the Euro)\n",
        "2. an amount\n",
        "\n",
        "and then converts and returns the amount in US dollars.\n",
        "\n",
        "The currency rates you will need are stored in file *currencies.txt*:\n"
      ],
      "metadata": {
        "id": "xnFKH-x5c6aI"
      }
    },
    {
      "cell_type": "markdown",
      "source": [
        "### Answer"
      ],
      "metadata": {
        "id": "IZViFyZhdOgi"
      }
    },
    {
      "cell_type": "code",
      "source": [
        "def curconv(currency, amount):\n",
        "  \"\"\"\n",
        "  Function to convert various currencies to US dollars.\n",
        "\n",
        "  Args: currency: str: The currency code to be converted\n",
        "      : amount: float: The currency amount to be converted\n",
        "\n",
        "  Returns: float/str: The converted amount if the database has the converison rate\n",
        "                      for the given currency. If not, then a message informing the\n",
        "                      unavailability of the conversion rate is returned.\n",
        "  \"\"\"\n",
        "\n",
        "  conversion = ''\n",
        "  with open('currencies.txt', 'r') as f:\n",
        "    for line in f:\n",
        "      if line[:3] == currency:\n",
        "        conversion = line\n",
        "        break\n",
        "  if conversion == '':\n",
        "    return(f'Sorry, {currency} to USD conversion rate not available.')\n",
        "\n",
        "  code, rate, _ = line.split('\\t')\n",
        "  rate = float(rate)\n",
        "  amount_USD = amount*rate\n",
        "\n",
        "  return(amount_USD)\n"
      ],
      "metadata": {
        "id": "4A6JI3VycwY4"
      },
      "execution_count": null,
      "outputs": []
    },
    {
      "cell_type": "code",
      "source": [
        "# test case 1\n",
        "curconv('EUR', 100)"
      ],
      "metadata": {
        "colab": {
          "base_uri": "https://localhost:8080/"
        },
        "id": "jEffSMXMg37S",
        "outputId": "52f9de26-4fe2-4715-e093-446f996f4757"
      },
      "execution_count": null,
      "outputs": [
        {
          "output_type": "execute_result",
          "data": {
            "text/plain": [
              "122.96544"
            ]
          },
          "metadata": {},
          "execution_count": 53
        }
      ]
    },
    {
      "cell_type": "code",
      "source": [
        "# test case 2\n",
        "curconv('JPY', 100)"
      ],
      "metadata": {
        "colab": {
          "base_uri": "https://localhost:8080/"
        },
        "id": "h5vQsBQwg69h",
        "outputId": "ee9ab085-365c-44e5-8956-28aa1abfa143"
      },
      "execution_count": null,
      "outputs": [
        {
          "output_type": "execute_result",
          "data": {
            "text/plain": [
              "1.241401"
            ]
          },
          "metadata": {},
          "execution_count": 54
        }
      ]
    },
    {
      "cell_type": "markdown",
      "source": [
        "# Question 9"
      ],
      "metadata": {
        "id": "iyhqbC0ghjrE"
      }
    },
    {
      "cell_type": "markdown",
      "source": [
        "### Question\n",
        "\n",
        "Each of the following will cause an exception (an error). Identify what type of exception each will cause."
      ],
      "metadata": {
        "id": "xE9f5uufhlOM"
      }
    },
    {
      "cell_type": "markdown",
      "source": [
        "### Answer\n",
        "\n",
        "* Trying to add incompatible variables, as in adding 6 + 'a'\n",
        "> * **TypeError**\n",
        "* Referring to the 12th item of a list that has only 10 items\n",
        "> * **IndexError**\n",
        "* Using a value that is out of range for a function's input, such as calling *math.sqrt(-1.0)*\n",
        "> * **ValueError**\n",
        "* Using an undeclared variable, such as\n",
        "print(x) when x has not been defined\n",
        "> * **NameError**\n",
        "* Trying to open a file that does not exist, such as mistyping the file name or looking in the wrong directory.\n",
        "> * **FileNotFoundError**\n",
        "\n",
        "The answers are justified using the following Python script."
      ],
      "metadata": {
        "id": "kr96IDpPhsn_"
      }
    },
    {
      "cell_type": "code",
      "source": [
        "6 + 'a'"
      ],
      "metadata": {
        "colab": {
          "base_uri": "https://localhost:8080/",
          "height": 176
        },
        "id": "Gjsoi91rg1NC",
        "outputId": "0a549815-98bf-4ccb-d3b1-56c224de818f"
      },
      "execution_count": null,
      "outputs": [
        {
          "output_type": "error",
          "ename": "TypeError",
          "evalue": "ignored",
          "traceback": [
            "\u001b[0;31m---------------------------------------------------------------------------\u001b[0m",
            "\u001b[0;31mTypeError\u001b[0m                                 Traceback (most recent call last)",
            "\u001b[0;32m<ipython-input-56-63a7ed804344>\u001b[0m in \u001b[0;36m<cell line: 1>\u001b[0;34m()\u001b[0m\n\u001b[0;32m----> 1\u001b[0;31m \u001b[0;36m6\u001b[0m \u001b[0;34m+\u001b[0m \u001b[0;34m'a'\u001b[0m\u001b[0;34m\u001b[0m\u001b[0;34m\u001b[0m\u001b[0m\n\u001b[0m",
            "\u001b[0;31mTypeError\u001b[0m: unsupported operand type(s) for +: 'int' and 'str'"
          ]
        }
      ]
    },
    {
      "cell_type": "code",
      "source": [
        "test_list = [1, 2, 3, 4, 5, 6, 7, 8, 9, 10]\n",
        "test_list[12]"
      ],
      "metadata": {
        "colab": {
          "base_uri": "https://localhost:8080/",
          "height": 193
        },
        "id": "lkoWJzitiY0y",
        "outputId": "59b56861-6e1a-4579-fa3e-818a5ee36dd0"
      },
      "execution_count": null,
      "outputs": [
        {
          "output_type": "error",
          "ename": "IndexError",
          "evalue": "ignored",
          "traceback": [
            "\u001b[0;31m---------------------------------------------------------------------------\u001b[0m",
            "\u001b[0;31mIndexError\u001b[0m                                Traceback (most recent call last)",
            "\u001b[0;32m<ipython-input-57-35424aa4f06b>\u001b[0m in \u001b[0;36m<cell line: 2>\u001b[0;34m()\u001b[0m\n\u001b[1;32m      1\u001b[0m \u001b[0mtest_list\u001b[0m \u001b[0;34m=\u001b[0m \u001b[0;34m[\u001b[0m\u001b[0;36m1\u001b[0m\u001b[0;34m,\u001b[0m \u001b[0;36m2\u001b[0m\u001b[0;34m,\u001b[0m \u001b[0;36m3\u001b[0m\u001b[0;34m,\u001b[0m \u001b[0;36m4\u001b[0m\u001b[0;34m,\u001b[0m \u001b[0;36m5\u001b[0m\u001b[0;34m,\u001b[0m \u001b[0;36m6\u001b[0m\u001b[0;34m,\u001b[0m \u001b[0;36m7\u001b[0m\u001b[0;34m,\u001b[0m \u001b[0;36m8\u001b[0m\u001b[0;34m,\u001b[0m \u001b[0;36m9\u001b[0m\u001b[0;34m,\u001b[0m \u001b[0;36m10\u001b[0m\u001b[0;34m]\u001b[0m\u001b[0;34m\u001b[0m\u001b[0;34m\u001b[0m\u001b[0m\n\u001b[0;32m----> 2\u001b[0;31m \u001b[0mtest_list\u001b[0m\u001b[0;34m[\u001b[0m\u001b[0;36m12\u001b[0m\u001b[0;34m]\u001b[0m\u001b[0;34m\u001b[0m\u001b[0;34m\u001b[0m\u001b[0m\n\u001b[0m",
            "\u001b[0;31mIndexError\u001b[0m: list index out of range"
          ]
        }
      ]
    },
    {
      "cell_type": "code",
      "source": [
        "import math\n",
        "math.sqrt(-1.0)"
      ],
      "metadata": {
        "colab": {
          "base_uri": "https://localhost:8080/",
          "height": 193
        },
        "id": "keotijq_ikbS",
        "outputId": "5de3a0ac-2b45-4d3b-9b7c-424175f34ff5"
      },
      "execution_count": null,
      "outputs": [
        {
          "output_type": "error",
          "ename": "ValueError",
          "evalue": "ignored",
          "traceback": [
            "\u001b[0;31m---------------------------------------------------------------------------\u001b[0m",
            "\u001b[0;31mValueError\u001b[0m                                Traceback (most recent call last)",
            "\u001b[0;32m<ipython-input-58-d39e523296ce>\u001b[0m in \u001b[0;36m<cell line: 2>\u001b[0;34m()\u001b[0m\n\u001b[1;32m      1\u001b[0m \u001b[0;32mimport\u001b[0m \u001b[0mmath\u001b[0m\u001b[0;34m\u001b[0m\u001b[0;34m\u001b[0m\u001b[0m\n\u001b[0;32m----> 2\u001b[0;31m \u001b[0mmath\u001b[0m\u001b[0;34m.\u001b[0m\u001b[0msqrt\u001b[0m\u001b[0;34m(\u001b[0m\u001b[0;34m-\u001b[0m\u001b[0;36m1.0\u001b[0m\u001b[0;34m)\u001b[0m\u001b[0;34m\u001b[0m\u001b[0;34m\u001b[0m\u001b[0m\n\u001b[0m",
            "\u001b[0;31mValueError\u001b[0m: math domain error"
          ]
        }
      ]
    },
    {
      "cell_type": "code",
      "source": [
        "print(x)"
      ],
      "metadata": {
        "colab": {
          "base_uri": "https://localhost:8080/",
          "height": 176
        },
        "id": "ktUrDKEYipFF",
        "outputId": "e26c8316-fc96-4261-ac1a-b404cb6ef5a5"
      },
      "execution_count": null,
      "outputs": [
        {
          "output_type": "error",
          "ename": "NameError",
          "evalue": "ignored",
          "traceback": [
            "\u001b[0;31m---------------------------------------------------------------------------\u001b[0m",
            "\u001b[0;31mNameError\u001b[0m                                 Traceback (most recent call last)",
            "\u001b[0;32m<ipython-input-59-fc17d851ef81>\u001b[0m in \u001b[0;36m<cell line: 1>\u001b[0;34m()\u001b[0m\n\u001b[0;32m----> 1\u001b[0;31m \u001b[0mprint\u001b[0m\u001b[0;34m(\u001b[0m\u001b[0mx\u001b[0m\u001b[0;34m)\u001b[0m\u001b[0;34m\u001b[0m\u001b[0;34m\u001b[0m\u001b[0m\n\u001b[0m",
            "\u001b[0;31mNameError\u001b[0m: name 'x' is not defined"
          ]
        }
      ]
    },
    {
      "cell_type": "code",
      "source": [
        "open('FileThatDoesNotExist.txt')"
      ],
      "metadata": {
        "colab": {
          "base_uri": "https://localhost:8080/",
          "height": 193
        },
        "id": "VZhENlMViyC8",
        "outputId": "565487af-585f-45ba-dda8-9b4c8d8b345b"
      },
      "execution_count": null,
      "outputs": [
        {
          "output_type": "error",
          "ename": "FileNotFoundError",
          "evalue": "ignored",
          "traceback": [
            "\u001b[0;31m---------------------------------------------------------------------------\u001b[0m",
            "\u001b[0;31mFileNotFoundError\u001b[0m                         Traceback (most recent call last)",
            "\u001b[0;32m<ipython-input-61-b1b385a1b857>\u001b[0m in \u001b[0;36m<cell line: 1>\u001b[0;34m()\u001b[0m\n\u001b[0;32m----> 1\u001b[0;31m \u001b[0mopen\u001b[0m\u001b[0;34m(\u001b[0m\u001b[0;34m'FileThatDoesNotExist.txt'\u001b[0m\u001b[0;34m)\u001b[0m\u001b[0;34m\u001b[0m\u001b[0;34m\u001b[0m\u001b[0m\n\u001b[0m",
            "\u001b[0;31mFileNotFoundError\u001b[0m: [Errno 2] No such file or directory: 'FileThatDoesNotExist.txt'"
          ]
        }
      ]
    },
    {
      "cell_type": "markdown",
      "source": [
        "# Question 10"
      ],
      "metadata": {
        "id": "5Qf_0h8rjMD3"
      }
    },
    {
      "cell_type": "markdown",
      "source": [
        "# Question\n",
        "\n",
        "Encryption is the process of hiding the meaning of a text by substituting letters in the message with other letters, according to some system. If the process is successful, no one but the intended recipient can understand the encrypted message. *Cryptanalysis* refers to attempts to undo the encryption, even if some details of the encryption are unknown (for example, if an encrypted message has been intercepted). The first step of cryptanalysis is often to build up a table of letter frequencies in the encrypted text. Assume that the string *letters* is already defined as *'abcdefghijklmnopqrstuvwxyz'*. Write a function called *frequencies()* that takes a string as its only parameter, and returns a list of integers, showing the number of times each character appears in the text. Your function may ignore any characters that are not in letters."
      ],
      "metadata": {
        "id": "_qM2Wo7AjOl4"
      }
    },
    {
      "cell_type": "markdown",
      "source": [
        "### Answer"
      ],
      "metadata": {
        "id": "7YgXDhNelz-q"
      }
    },
    {
      "cell_type": "code",
      "source": [
        "letters = 'abcdefghijklmnopqrstuvwxyz'\n",
        "\n",
        "def frequencies(text):\n",
        "  \"\"\"\n",
        "  Function that generates a list of integers that are the counts of\n",
        "  letters appearing in the text, that are also in the letters. This\n",
        "  function is case-sensitive, meaning, it will not count capital\n",
        "  letters which are not in the letters string.\n",
        "\n",
        "  Args: text: str: Text to be encrypted\n",
        "  Return: list: List of number of letters (integers)\n",
        "\n",
        "  \"\"\"\n",
        "\n",
        "  count_dict = {}\n",
        "  for letter in text:\n",
        "    if letter in letters:\n",
        "      if letter in count_dict:\n",
        "        count_dict[letter] += 1\n",
        "      else:\n",
        "        count_dict[letter] = 1\n",
        "\n",
        "  count_list = []\n",
        "  for letter in letters:\n",
        "    if letter in count_dict:\n",
        "      count_list.append(count_dict[letter])\n",
        "    else:\n",
        "      count_list.append(0)\n",
        "  return(count_list)\n"
      ],
      "metadata": {
        "id": "XPjA1qCJi5HW"
      },
      "execution_count": null,
      "outputs": []
    },
    {
      "cell_type": "code",
      "source": [
        "# test case 1\n",
        "frequencies('The quick red fox got bored and went home.')"
      ],
      "metadata": {
        "colab": {
          "base_uri": "https://localhost:8080/"
        },
        "id": "OqyDRXg1kBi1",
        "outputId": "d34f37cf-ce56-46b5-dd87-70335a940a01"
      },
      "execution_count": null,
      "outputs": [
        {
          "output_type": "execute_result",
          "data": {
            "text/plain": [
              "[1, 1, 1, 3, 5, 1, 1, 2, 1, 0, 1, 0, 1, 2, 4, 0, 1, 2, 0, 2, 1, 0, 1, 1, 0, 0]"
            ]
          },
          "metadata": {},
          "execution_count": 3
        }
      ]
    },
    {
      "cell_type": "code",
      "source": [
        "# test case 2\n",
        "frequencies('apple')"
      ],
      "metadata": {
        "colab": {
          "base_uri": "https://localhost:8080/"
        },
        "id": "uZxml-qyc4vr",
        "outputId": "f2cbf202-c95e-4113-d2b8-82d9200bc5ed"
      },
      "execution_count": null,
      "outputs": [
        {
          "output_type": "execute_result",
          "data": {
            "text/plain": [
              "[1, 0, 0, 0, 1, 0, 0, 0, 0, 0, 0, 1, 0, 0, 0, 2, 0, 0, 0, 0, 0, 0, 0, 0, 0, 0]"
            ]
          },
          "metadata": {},
          "execution_count": 4
        }
      ]
    },
    {
      "cell_type": "code",
      "source": [],
      "metadata": {
        "id": "v-A074v2c7d9"
      },
      "execution_count": null,
      "outputs": []
    }
  ]
}